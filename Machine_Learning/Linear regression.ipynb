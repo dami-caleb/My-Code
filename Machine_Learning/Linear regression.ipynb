{
 "cells": [
  {
   "cell_type": "code",
   "execution_count": 2,
   "id": "a54cf822-6caf-4d22-bf25-3b7559ce187f",
   "metadata": {},
   "outputs": [],
   "source": [
    "# Load libraries\n",
    "from sklearn.linear_model import LinearRegression\n",
    "from sklearn.datasets import load_boston"
   ]
  },
  {
   "cell_type": "code",
   "execution_count": 7,
   "id": "1212dcdd-6706-48ba-ba90-e8bfa7de44a0",
   "metadata": {},
   "outputs": [],
   "source": [
    "# Load the bostoon data\n",
    "boston = load_boston()\n",
    "features = boston.data\n",
    "target = boston.target"
   ]
  },
  {
   "cell_type": "code",
   "execution_count": null,
   "id": "340a3ac5-1f80-42c0-ae66-8de34c771c24",
   "metadata": {},
   "outputs": [],
   "source": []
  },
  {
   "cell_type": "code",
   "execution_count": 8,
   "id": "5d4ab805-c717-442e-9153-b1fba72f7bac",
   "metadata": {},
   "outputs": [],
   "source": [
    "#Let's see how many features our data set has"
   ]
  },
  {
   "cell_type": "code",
   "execution_count": 9,
   "id": "5c3f94cf-fe40-4e61-884a-ec3c67c85c79",
   "metadata": {},
   "outputs": [
    {
     "name": "stdout",
     "output_type": "stream",
     "text": [
      "(506, 13)\n"
     ]
    }
   ],
   "source": [
    "print(features.shape)"
   ]
  },
  {
   "cell_type": "code",
   "execution_count": 10,
   "id": "ebbd93b4-2a7a-4ac3-aeac-b9b7a263104e",
   "metadata": {},
   "outputs": [],
   "source": [
    "#This means we have 13 features."
   ]
  },
  {
   "cell_type": "code",
   "execution_count": null,
   "id": "9d74bc4b-c3bb-44cd-b8cd-588a530e01fc",
   "metadata": {},
   "outputs": [],
   "source": []
  },
  {
   "cell_type": "code",
   "execution_count": 11,
   "id": "e5fd9c7b-0d33-4952-92ef-e983b225bddb",
   "metadata": {},
   "outputs": [],
   "source": [
    "#For this live demo I only will be using two features"
   ]
  },
  {
   "cell_type": "code",
   "execution_count": 12,
   "id": "25729f9f-9fd7-4ae0-bae6-f4d3ababea50",
   "metadata": {},
   "outputs": [],
   "source": [
    "features = boston.data[:,0:2]"
   ]
  },
  {
   "cell_type": "code",
   "execution_count": null,
   "id": "f8feee7f-24de-409d-bf3a-45c77e9d1ffa",
   "metadata": {},
   "outputs": [],
   "source": []
  },
  {
   "cell_type": "code",
   "execution_count": 13,
   "id": "90f25336-417c-4f0e-9ee3-88d118523b51",
   "metadata": {},
   "outputs": [],
   "source": [
    "# Create linear regression\n",
    "regression = LinearRegression()"
   ]
  },
  {
   "cell_type": "code",
   "execution_count": 14,
   "id": "26e62f4a-cb92-489d-a930-18109dc0f8c1",
   "metadata": {},
   "outputs": [],
   "source": [
    "# Fit the linear regression\n",
    "model = regression.fit(features, target)"
   ]
  },
  {
   "cell_type": "code",
   "execution_count": 15,
   "id": "bb2ea979-f295-44c2-bf6c-f8dedb7b87bd",
   "metadata": {},
   "outputs": [
    {
     "data": {
      "text/plain": [
       "22.485628113468223"
      ]
     },
     "execution_count": 15,
     "metadata": {},
     "output_type": "execute_result"
    }
   ],
   "source": [
    "# View the intercept\n",
    "model.intercept_"
   ]
  },
  {
   "cell_type": "code",
   "execution_count": 16,
   "id": "4613fd5f-55bf-446b-93ca-bc06271a4670",
   "metadata": {},
   "outputs": [
    {
     "data": {
      "text/plain": [
       "array([-0.35207832,  0.11610909])"
      ]
     },
     "execution_count": 16,
     "metadata": {},
     "output_type": "execute_result"
    }
   ],
   "source": [
    "# View the feature coefficients\n",
    "model.coef_"
   ]
  },
  {
   "cell_type": "code",
   "execution_count": null,
   "id": "d15d9197-3cfd-44b7-9747-be61e21de586",
   "metadata": {},
   "outputs": [],
   "source": []
  },
  {
   "cell_type": "code",
   "execution_count": null,
   "id": "6a241dac-d88d-4eb9-a953-4a7d46e8b6ec",
   "metadata": {},
   "outputs": [],
   "source": []
  },
  {
   "cell_type": "code",
   "execution_count": 17,
   "id": "94167539-9441-4322-b7de-eb4eebb4172e",
   "metadata": {},
   "outputs": [],
   "source": [
    "# From this we can now predict the price of\n",
    "#the first house"
   ]
  },
  {
   "cell_type": "markdown",
   "id": "d718ef11-1f4b-4598-a351-d9d98cec6925",
   "metadata": {},
   "source": [
    "**Using the predict method, we can predict a value for that house:"
   ]
  },
  {
   "cell_type": "markdown",
   "id": "3808f2c3-7b08-42f0-b88e-0810f8bad48d",
   "metadata": {},
   "source": [
    "## It should be noted the goal value in our dataset is the median value of a Boston home in the 1970s, expressed in thousands of dollars. "
   ]
  },
  {
   "cell_type": "code",
   "execution_count": 18,
   "id": "2aaeb0f2-407c-42c5-9c5b-d5e52e9859c2",
   "metadata": {},
   "outputs": [
    {
     "data": {
      "text/plain": [
       "24573.366631705547"
      ]
     },
     "execution_count": 18,
     "metadata": {},
     "output_type": "execute_result"
    }
   ],
   "source": [
    "model.predict(features)[0]*1000"
   ]
  },
  {
   "cell_type": "markdown",
   "id": "decff3cb-03c3-45bb-b19e-985af0b767b6",
   "metadata": {},
   "source": []
  },
  {
   "cell_type": "code",
   "execution_count": null,
   "id": "af006131-ca61-4ab8-a337-80367503a57a",
   "metadata": {},
   "outputs": [],
   "source": []
  },
  {
   "cell_type": "markdown",
   "id": "b69c6f9e-282c-453c-8b23-ace5b1b321da",
   "metadata": {},
   "source": [
    "**The actual vaule of the house is:"
   ]
  },
  {
   "cell_type": "code",
   "execution_count": 19,
   "id": "f971bb13-16e7-4496-9f4a-74f709306332",
   "metadata": {},
   "outputs": [
    {
     "data": {
      "text/plain": [
       "24000.0"
      ]
     },
     "execution_count": 19,
     "metadata": {},
     "output_type": "execute_result"
    }
   ],
   "source": [
    "target[0]*1000"
   ]
  },
  {
   "cell_type": "markdown",
   "id": "140a6bc5-cbf4-4843-8a82-f0a97217d3e1",
   "metadata": {},
   "source": [
    "**Therefore the model is off by"
   ]
  },
  {
   "cell_type": "code",
   "execution_count": 20,
   "id": "19ccc2b7-7d72-4ceb-984d-ddb594edad82",
   "metadata": {},
   "outputs": [
    {
     "data": {
      "text/plain": [
       "-573.3666317055468"
      ]
     },
     "execution_count": 20,
     "metadata": {},
     "output_type": "execute_result"
    }
   ],
   "source": [
    "target[0]*1000 - model.predict(features)[0]*1000 "
   ]
  },
  {
   "cell_type": "markdown",
   "id": "e699a3f9-5ff8-49bc-80ba-b39d592eae5e",
   "metadata": {},
   "source": [
    "**573.366$"
   ]
  },
  {
   "cell_type": "code",
   "execution_count": null,
   "id": "561dd6e8-7094-4f1d-9c34-ebb27ff73fcc",
   "metadata": {},
   "outputs": [],
   "source": []
  },
  {
   "cell_type": "code",
   "execution_count": null,
   "id": "92bab1c7-01ef-4dcb-a6e0-56d336a699e8",
   "metadata": {},
   "outputs": [],
   "source": []
  },
  {
   "cell_type": "code",
   "execution_count": null,
   "id": "616e390c-0d7c-4074-97d2-38f390af47cc",
   "metadata": {},
   "outputs": [],
   "source": []
  }
 ],
 "metadata": {
  "kernelspec": {
   "display_name": "Python 3 (ipykernel)",
   "language": "python",
   "name": "python3"
  },
  "language_info": {
   "codemirror_mode": {
    "name": "ipython",
    "version": 3
   },
   "file_extension": ".py",
   "mimetype": "text/x-python",
   "name": "python",
   "nbconvert_exporter": "python",
   "pygments_lexer": "ipython3",
   "version": "3.9.7"
  }
 },
 "nbformat": 4,
 "nbformat_minor": 5
}
